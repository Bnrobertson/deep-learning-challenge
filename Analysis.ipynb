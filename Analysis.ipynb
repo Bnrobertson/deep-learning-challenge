{
 "cells": [
  {
   "cell_type": "markdown",
   "id": "1cfde9ea",
   "metadata": {},
   "source": [
    "# Deep Learning Overview of the Analysis:\n",
    "The purpose of this analysis is to develop a deep learning model to predict the success of charitable \n",
    "donations for Alphabet Soup. By analyzing historical data on previous donations and their outcomes, \n",
    "I aimed to create a predictive model that can help the organization allocate its resources more effectively \n",
    "and identify which donation applications are more likely to be successful."
   ]
  },
  {
   "cell_type": "markdown",
   "id": "95a0b337",
   "metadata": {},
   "source": [
    "# Results:\n",
    "### Data Processing\n",
    "- Target Variable\n",
    "The target variable for our model is IS_SUCCESSFUL, which indicates whether a donation was successful.\n",
    "- Removed Variables\n",
    "The columns EIN and NAME were removed from the input data because they are neither targets nor features and do not contribute to the prediction.\n",
    "\n",
    "### Compiling, Training, and Evaluating the Model\n",
    "#### Neurons:\n",
    "- First hidden layer: 80 neurons\n",
    "- Second hidden layer: 30 neurons\n",
    "#### Layers: \n",
    "The model consists of two hidden layers and one output layer.\n",
    "#### Activation Functions:\n",
    "- Hidden layers: ReLU (Rectified Linear Unit) activation function\n",
    "- Output layer: Sigmoid activation function\n",
    "### Reasoning:\n",
    "- The ReLU activation function is commonly used in hidden layers due to its ability to mitigate the vanishing gradient problem and accelerate training.\n",
    "- The Sigmoid activation function is used in the output layer for binary classification tasks as it outputs a probability value between 0 and 1.\n",
    "## Conclusion\n",
    "This project demonstrates the process of developing a deep learning model to predict the success of charity donations using historical data. Through data preprocessing, model building, and evaluation, I aimed to optimize the model's performance and achieve a high accuracy in predicting successful donations. This model can potentially assist Alphabet Soup in making data-driven decisions for better resource allocation and donation management\n"
   ]
  }
 ],
 "metadata": {
  "kernelspec": {
   "display_name": "Python 3 (ipykernel)",
   "language": "python",
   "name": "python3"
  },
  "language_info": {
   "codemirror_mode": {
    "name": "ipython",
    "version": 3
   },
   "file_extension": ".py",
   "mimetype": "text/x-python",
   "name": "python",
   "nbconvert_exporter": "python",
   "pygments_lexer": "ipython3",
   "version": "3.10.13"
  }
 },
 "nbformat": 4,
 "nbformat_minor": 5
}
